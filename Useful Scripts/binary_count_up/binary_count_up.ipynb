{
 "cells": [
  {
   "cell_type": "markdown",
   "metadata": {},
   "source": [
    "# binary_count_up()\n",
    "author: methylDragon (github.com/methylDragon)\n",
    "\n",
    "\n",
    "\n",
    "                           .     .\n",
    "                        .  |\\-^-/|  .    \n",
    "                       /| } O.=.O { |\\  \n",
    "                      /´ \\ \\_ ~ _/ / `\\\n",
    "                    /´ |  \\-/ ~ \\-/  | `\\\n",
    "                    |   |  /\\\\ //\\  |   | \n",
    "                     \\|\\|\\/-\"\"-\"\"-\\/|/|/\n",
    "                             ______/ /\n",
    "                             '------\n",
    "                _   _        _  ___                         \n",
    "      _ __  ___| |_| |_ _  _| ||   \\ _ _ __ _ __ _ ___ _ _  \n",
    "     | '  \\/ -_)  _| ' \\ || | || |) | '_/ _` / _` / _ \\ ' \\ \n",
    "     |_|_|_\\___|\\__|_||_\\_, |_||___/|_| \\__,_\\__, \\___/_||_|\n",
    "                        |__/                 |___/          \n"
   ]
  },
  {
   "cell_type": "markdown",
   "metadata": {},
   "source": [
    "Description: This script can be used as either a module, or standalone!\n",
    "\n",
    "If used standalone, it can take user input (or you can configure it manually) \n",
    "to print all binary numbers leading up to a target binary number.\n",
    "\n",
    "If used as a module, it can do the same, but it returns a list instead, just \n",
    "pass the number you want to count up to with binary_count_up()\n"
   ]
  },
  {
   "cell_type": "markdown",
   "metadata": {},
   "source": [
    "## Editable Parameters"
   ]
  },
  {
   "cell_type": "code",
   "execution_count": 22,
   "metadata": {
    "collapsed": true
   },
   "outputs": [],
   "source": [
    "target = 0"
   ]
  },
  {
   "cell_type": "markdown",
   "metadata": {},
   "source": [
    "## Function Definition"
   ]
  },
  {
   "cell_type": "code",
   "execution_count": 23,
   "metadata": {
    "collapsed": true
   },
   "outputs": [],
   "source": [
    "# Binary addition function\n",
    "def bin_add(*args): return bin(sum(int(str(x), 2) for x in args))[2:]\n",
    "\n",
    "# Core function\n",
    "def binary_count_up(target):\n",
    "    current = 0 # Initialise initial value\n",
    "    target = str(target) # Convert int to string\n",
    "    \n",
    "        # Check if run as standalone\n",
    "    if __name__ == \"__main__\":\n",
    "        count = 0\n",
    "\n",
    "        # Ensure valid input\n",
    "        while not all((i == \"0\" or i == \"1\") for i in str(target)):\n",
    "            print(\"ERROR: binary_count_up() received non-binary target!\")\n",
    "            target = input(\"Enter VALID target number, in binary: \")\n",
    "\n",
    "        # Print binary numbers up to target\n",
    "        print(\"\\nOk! Fetching binary numbers:\")\n",
    "        while str(current).zfill(len(target)) < target:\n",
    "            current = bin_add(current,1)\n",
    "            print(current)\n",
    "            count += 1\n",
    "            \n",
    "        # Report summary\n",
    "        print(\"\\nTotal numbers printed: \" + str(count))\n",
    "    \n",
    "    # Run as module otherwise\n",
    "    else:\n",
    "        # Initialise binary list\n",
    "        number_list = []\n",
    "\n",
    "        # Ensure valid input\n",
    "        if all((i == \"0\" or i == \"1\") for i in target):\n",
    "\n",
    "            # Increment iterator until it reaches target\n",
    "\n",
    "            # Append with zeroes to ensure it's the same as the target string\n",
    "            while str(current).zfill(len(target)) < target:\n",
    "                # Increment iterator\n",
    "                current = bin_add(current, 1)\n",
    "\n",
    "                # Append iterator\n",
    "                number_list.append(current)\n",
    "\n",
    "        # If input is not valid\n",
    "        else:\n",
    "            # Print error and end function otherwise\n",
    "            print(\"ERROR: binary_count_up() received non-binary target!\")\n",
    "            return\n",
    "\n",
    "        # Return list of binary numbers leading up to and including target\n",
    "        return number_list"
   ]
  },
  {
   "cell_type": "markdown",
   "metadata": {},
   "source": [
    "## Console Version\n",
    "This section runs if the script is opened instead of importing it.\n",
    "It'll prompt for input and work like a user command-line tool!"
   ]
  },
  {
   "cell_type": "code",
   "execution_count": null,
   "metadata": {},
   "outputs": [
    {
     "name": "stdout",
     "output_type": "stream",
     "text": [
      "This script takes user input to output all binary numbers leading up to a particular one.\n",
      "\n"
     ]
    }
   ],
   "source": [
    "if target == 0:\n",
    "    print(\"This script takes user input to output all binary numbers leading up to a particular one.\\n\")\n",
    "\n",
    "    # Call for user input\n",
    "    target = input(\"Enter target number, in binary: \")\n",
    "    # Run core function\n",
    "    binary_count_up(target)\n",
    "\n",
    "    # Prompt for exit\n",
    "    input('''\\nPress enter to exit \\n                            .     .\n",
    "                         .  |\\-^-/|  .    \n",
    "                        /| } O.=.O { |\\ ''') \n"
   ]
  },
  {
   "cell_type": "code",
   "execution_count": null,
   "metadata": {
    "collapsed": true
   },
   "outputs": [],
   "source": []
  }
 ],
 "metadata": {
  "kernelspec": {
   "display_name": "Python 3",
   "language": "python",
   "name": "python3"
  },
  "language_info": {
   "codemirror_mode": {
    "name": "ipython",
    "version": 3
   },
   "file_extension": ".py",
   "mimetype": "text/x-python",
   "name": "python",
   "nbconvert_exporter": "python",
   "pygments_lexer": "ipython3",
   "version": "3.6.2"
  }
 },
 "nbformat": 4,
 "nbformat_minor": 2
}
